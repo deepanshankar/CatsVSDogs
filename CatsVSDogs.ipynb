{
  "nbformat": 4,
  "nbformat_minor": 0,
  "metadata": {
    "kernelspec": {
      "display_name": "Python 3",
      "language": "python",
      "name": "python3"
    },
    "language_info": {
      "codemirror_mode": {
        "name": "ipython",
        "version": 3
      },
      "file_extension": ".py",
      "mimetype": "text/x-python",
      "name": "python",
      "nbconvert_exporter": "python",
      "pygments_lexer": "ipython3",
      "version": "3.7.4"
    },
    "colab": {
      "name": "CatsVSDogs.ipynb",
      "provenance": [],
      "collapsed_sections": []
    }
  },
  "cells": [
    {
      "cell_type": "markdown",
      "metadata": {
        "id": "mBos5RDoCQli",
        "colab_type": "text"
      },
      "source": [
        "## Cats vs Dogs Classification\n",
        "\n",
        "This notebook uses a neural network to classify cats and dogs based on the images.\n",
        "\n",
        "Following are the imports required for the project. Tqdm is used to bring out the progress bar when used in a loop."
      ]
    },
    {
      "cell_type": "code",
      "metadata": {
        "id": "u1fifZ7nn7s4",
        "colab_type": "code",
        "colab": {}
      },
      "source": [
        "import numpy as np\n",
        "import os\n",
        "import cv2\n",
        "from tqdm import tqdm\n",
        "import matplotlib.pyplot as plt"
      ],
      "execution_count": 3,
      "outputs": []
    },
    {
      "cell_type": "markdown",
      "metadata": {
        "id": "v5vA1UbzEdWY",
        "colab_type": "text"
      },
      "source": [
        "ZipFile uses extractall function to extract images compressed as a zip file"
      ]
    },
    {
      "cell_type": "code",
      "metadata": {
        "id": "_IyUl-vMgcoD",
        "colab_type": "code",
        "colab": {}
      },
      "source": [
        "from zipfile import ZipFile\n",
        "file_name = \"PetImages.zip\"\n",
        "\n",
        "with ZipFile(file_name, 'r') as zip:\n",
        "  zip.extractall()\n",
        "  print('Done')"
      ],
      "execution_count": null,
      "outputs": []
    },
    {
      "cell_type": "markdown",
      "metadata": {
        "id": "fvMrnxdVEs1V",
        "colab_type": "text"
      },
      "source": [
        "The path of cats and dogs are provided and cats is labelled as 0 and dogs as 1. Initializing count of both to 0. \n",
        "\n",
        "builddata function is used to form data by converting the images into array of integers. Each image is rescaled to 50*50 pixels since all images have to be of same size."
      ]
    },
    {
      "cell_type": "code",
      "metadata": {
        "id": "tl4oRTTDn7s8",
        "colab_type": "code",
        "colab": {}
      },
      "source": [
        "cat_path = \"PetImages/Cat\"\n",
        "dog_path = \"PetImages/Dog\"\n",
        "img_size = 50\n",
        "labels = {cat_path:0,dog_path:1}\n",
        "cat_count = 0\n",
        "dog_count = 0\n",
        "data = []\n",
        "BUILD = True\n",
        "    \n",
        "def builddata():\n",
        "    cat_count = 0\n",
        "    dog_count = 0\n",
        "    for i in labels:\n",
        "        for j in tqdm(os.listdir(i)):\n",
        "            try:\n",
        "                img = cv2.imread(os.path.join(i,j),cv2.IMREAD_GRAYSCALE)\n",
        "                img = cv2.resize(img,(img_size,img_size))\n",
        "                data.append([np.array(img),np.eye(2)[labels[i]]])\n",
        "                if(i == cat_path):\n",
        "                    cat_count += 1\n",
        "                else:\n",
        "                    dog_count += 1\n",
        "            except Exception as e:\n",
        "                pass\n",
        "    np.random.shuffle(data)\n",
        "    np.save(\"catsvsdogs.npy\",data)\n",
        "    print(f\"Dogs : {dog_count} , Cats : {cat_count}\")\n",
        "\n",
        "if BUILD:\n",
        "    builddata()\n"
      ],
      "execution_count": null,
      "outputs": []
    },
    {
      "cell_type": "markdown",
      "metadata": {
        "id": "820KNQPDOn-B",
        "colab_type": "text"
      },
      "source": [
        "Loading the numpy object from saved data."
      ]
    },
    {
      "cell_type": "code",
      "metadata": {
        "id": "qQe4NwFPn7tA",
        "colab_type": "code",
        "colab": {}
      },
      "source": [
        "data = np.load(\"catsvsdogs.npy\",allow_pickle=True)"
      ],
      "execution_count": 5,
      "outputs": []
    },
    {
      "cell_type": "markdown",
      "metadata": {
        "id": "TpC4byc2Oulo",
        "colab_type": "text"
      },
      "source": [
        "Plotting one image in gray scale"
      ]
    },
    {
      "cell_type": "code",
      "metadata": {
        "id": "X2Bh_V-Ln7tD",
        "colab_type": "code",
        "colab": {
          "base_uri": "https://localhost:8080/",
          "height": 318
        },
        "outputId": "0fd7d47d-1ec6-4304-c077-2ef3d6242384"
      },
      "source": [
        "\n",
        "img = cv2.imread(\"PetImages/Cat/0.jpg\",cv2.IMREAD_GRAYSCALE)\n",
        "print(img.shape)\n",
        "img = cv2.resize(img,(50,50))\n",
        "print(img.shape)\n",
        "\n",
        "plt.imshow(np.array(img))"
      ],
      "execution_count": 6,
      "outputs": [
        {
          "output_type": "stream",
          "text": [
            "(375, 500)\n",
            "(50, 50)\n"
          ],
          "name": "stdout"
        },
        {
          "output_type": "execute_result",
          "data": {
            "text/plain": [
              "<matplotlib.image.AxesImage at 0x7ff6c080a630>"
            ]
          },
          "metadata": {
            "tags": []
          },
          "execution_count": 6
        },
        {
          "output_type": "display_data",
          "data": {
            "image/png": "[encoded data removed]",
            "text/plain": [
              "<Figure size 432x288 with 1 Axes>"
            ]
          },
          "metadata": {
            "tags": [],
            "needs_background": "light"
          }
        }
      ]
    },
    {
      "cell_type": "markdown",
      "metadata": {
        "id": "Uec9p0kMO1s1",
        "colab_type": "text"
      },
      "source": [
        "## Model\n",
        "\n",
        "The model is built here with 3 dense layers of convolution 2d. The first layer takes in 1 input and produces 32 dimensions of second layer takes in 32D and produces 64D and third layer of input 64D and output 128D. Each layers with 5*5 filters.\n",
        "\n",
        "We do not know the number of features into the Linear layer which is kind of flattening the model. Thus it is calculated by passing one image and finding out the self.to_linear which gives the shape as input to linear layer.\n",
        "\n",
        "Two fully connected layers are formed with 1st one taking input of self.to_linear and output of 512 and second one with input 512 and output 2 which are our classes of cats and dogs.\n",
        "\n",
        "In the model , we are using relu as activation function and max pool 2D with 2*2  as the pooling layer.\n",
        "\n",
        "The output is formed as the softmax layer outputing the maximum value of the predicted classes."
      ]
    },
    {
      "cell_type": "code",
      "metadata": {
        "id": "4jRzaiMdn7tF",
        "colab_type": "code",
        "colab": {}
      },
      "source": [
        "import torch\n",
        "import torch.nn as nn\n",
        "import torch.nn.functional as F"
      ],
      "execution_count": 7,
      "outputs": []
    },
    {
      "cell_type": "code",
      "metadata": {
        "id": "GXiKdcEcn7tH",
        "colab_type": "code",
        "colab": {
          "base_uri": "https://localhost:8080/",
          "height": 153
        },
        "outputId": "c7bf2933-1a24-4560-dcd0-7296f86e11d1"
      },
      "source": [
        "class Net(nn.Module):\n",
        "    def __init__(self):\n",
        "        super().__init__()\n",
        "        self.cv1 = nn.Conv2d(1,32,5)\n",
        "        self.cv2 = nn.Conv2d(32,64,5)\n",
        "        self.cv3 = nn.Conv2d(64,128,5)\n",
        "        \n",
        "        self.to_linear = None\n",
        "        x = torch.randn(50,50).view(-1,1,50,50)\n",
        "        self.convs(x)\n",
        "        \n",
        "        self.fc1 = nn.Linear(self.to_linear,512)\n",
        "        self.fc2 = nn.Linear(512,2)\n",
        "    \n",
        "    def convs(self,x):\n",
        "        x = F.max_pool2d(F.relu(self.cv1(x)),(2,2))\n",
        "        x = F.max_pool2d(F.relu(self.cv2(x)),(2,2))\n",
        "        x = F.max_pool2d(F.relu(self.cv3(x)),(2,2))\n",
        "        \n",
        "        if self.to_linear is None:\n",
        "            print(x.shape, x[0].shape)\n",
        "            self.to_linear = x[0].shape[0]*x[0].shape[1]*x[0].shape[2]\n",
        "        return x\n",
        "    \n",
        "    def forward(self,x):\n",
        "        x = self.convs(x)\n",
        "        x = x.view(-1,self.to_linear)\n",
        "        x = F.relu(self.fc1(x))\n",
        "        x = self.fc2(x)\n",
        "        return F.softmax(x,dim=1)\n",
        "        \n",
        "net = Net()\n",
        "print(net)"
      ],
      "execution_count": 9,
      "outputs": [
        {
          "output_type": "stream",
          "text": [
            "torch.Size([1, 128, 2, 2]) torch.Size([128, 2, 2])\n",
            "Net(\n",
            "  (cv1): Conv2d(1, 32, kernel_size=(5, 5), stride=(1, 1))\n",
            "  (cv2): Conv2d(32, 64, kernel_size=(5, 5), stride=(1, 1))\n",
            "  (cv3): Conv2d(64, 128, kernel_size=(5, 5), stride=(1, 1))\n",
            "  (fc1): Linear(in_features=512, out_features=512, bias=True)\n",
            "  (fc2): Linear(in_features=512, out_features=2, bias=True)\n",
            ")\n"
          ],
          "name": "stdout"
        }
      ]
    },
    {
      "cell_type": "markdown",
      "metadata": {
        "id": "KYNjC2-RUJhb",
        "colab_type": "text"
      },
      "source": [
        "The model is trained using an Adam optimizer and MSE is used in loss function."
      ]
    },
    {
      "cell_type": "code",
      "metadata": {
        "id": "vI-eMgBvn7tK",
        "colab_type": "code",
        "colab": {}
      },
      "source": [
        "import torch.optim as optim\n",
        "\n",
        "optimizer = optim.Adam(net.parameters(), lr=0.001)\n",
        "loss = nn.MSELoss()\n"
      ],
      "execution_count": 10,
      "outputs": []
    },
    {
      "cell_type": "markdown",
      "metadata": {
        "id": "iGH79x03UU44",
        "colab_type": "text"
      },
      "source": [
        "Next, features and labels are formed. Validation of 10% data is used for testing."
      ]
    },
    {
      "cell_type": "code",
      "metadata": {
        "id": "NRWYC19Wn7tO",
        "colab_type": "code",
        "colab": {}
      },
      "source": [
        "X = torch.Tensor([i[0] for i in data]).view(-1,50,50)\n",
        "X = X/255.0\n",
        "y = torch.Tensor([i[1] for i in data])"
      ],
      "execution_count": 11,
      "outputs": []
    },
    {
      "cell_type": "code",
      "metadata": {
        "id": "DePY_0X2n7tQ",
        "colab_type": "code",
        "colab": {}
      },
      "source": [
        "val_size = 0.1\n",
        "val_data = int(val_size * (len(data)))\n",
        "train_X = X[:-val_data]\n",
        "train_y = y[:-val_data]\n",
        "\n",
        "test_X = X[-val_data:]\n",
        "test_y = y[-val_data:]\n",
        "\n"
      ],
      "execution_count": 12,
      "outputs": []
    },
    {
      "cell_type": "code",
      "metadata": {
        "id": "UFker5Dln7tS",
        "colab_type": "code",
        "colab": {}
      },
      "source": [
        "print(len(train_X),len(test_X))"
      ],
      "execution_count": null,
      "outputs": []
    },
    {
      "cell_type": "markdown",
      "metadata": {
        "id": "cdi1H6eqUgWG",
        "colab_type": "text"
      },
      "source": [
        "For each epochs, the data is given in batches to the model and is trained."
      ]
    },
    {
      "cell_type": "code",
      "metadata": {
        "id": "r59hJzXwn7tU",
        "colab_type": "code",
        "colab": {}
      },
      "source": [
        "BATCH = 10\n",
        "EPOCHS = 1\n",
        "\n",
        "for epoch in range(EPOCHS):\n",
        "    for i in tqdm(range(0,len(train_X),BATCH)):\n",
        "        x = train_X[i:i+BATCH].view(-1,1,50,50)\n",
        "        y = train_y[i:i+BATCH]\n",
        "        \n",
        "        output = net(x)\n",
        "        loss_val = loss(output,y)\n",
        "        loss_val.backward()\n",
        "        optimizer.step()\n",
        "        optimizer.zero_grad()\n",
        "    print(f\"Epoch : {epoch} , Loss : {loss_val}\")"
      ],
      "execution_count": null,
      "outputs": []
    },
    {
      "cell_type": "markdown",
      "metadata": {
        "id": "flms1ihuUonb",
        "colab_type": "text"
      },
      "source": [
        "The test data is used in testing and accuracy is found out using this model."
      ]
    },
    {
      "cell_type": "code",
      "metadata": {
        "id": "lecIehZkn7tW",
        "colab_type": "code",
        "colab": {
          "base_uri": "https://localhost:8080/",
          "height": 51
        },
        "outputId": "73e45627-9b1a-4532-ff37-0c102e4c1e19"
      },
      "source": [
        "correct = 0\n",
        "total = 0\n",
        "for i in tqdm(range(len(test_X))):\n",
        "  actual = torch.argmax(test_y[i])\n",
        "  preds = net(test_X[i].view(-1,1,50,50))[0]\n",
        "  pred_val = torch.argmax(preds)\n",
        "  if pred_val == actual:\n",
        "    correct += 1\n",
        "  total += 1\n",
        "print(\"Accuracy : \",(correct/total)*100,\"%\")"
      ],
      "execution_count": 21,
      "outputs": [
        {
          "output_type": "stream",
          "text": [
            "100%|██████████| 2494/2494 [00:05<00:00, 426.39it/s]"
          ],
          "name": "stderr"
        },
        {
          "output_type": "stream",
          "text": [
            "Accuracy :  54.04971932638332 %\n"
          ],
          "name": "stdout"
        },
        {
          "output_type": "stream",
          "text": [
            "\n"
          ],
          "name": "stderr"
        }
      ]
    },
    {
      "cell_type": "code",
      "metadata": {
        "id": "9U3Ku_7-lEeM",
        "colab_type": "code",
        "colab": {}
      },
      "source": [
        "Here, we got an accuracy of 54% . It could be improved by tuning parameters and increasing more dense layers."
      ],
      "execution_count": null,
      "outputs": []
    }
  ]
}